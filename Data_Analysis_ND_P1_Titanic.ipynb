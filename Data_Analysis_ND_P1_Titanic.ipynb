{
 "cells": [
  {
   "cell_type": "markdown",
   "metadata": {},
   "source": [
    "# Titanic demographic data is used for the analysis below\n",
    "https://www.kaggle.com/c/titanic/data\n",
    "\n",
    "According to Wiki\n",
    " \n",
    "Of the 2,224 people on board the ship; 1,343 of them were passengers and 885 were crew members. There were only enough lifeboats on board the ship to hold 1,178 people. Most common number of survivors reported is 705. Millvina Dean was one of youngest 9 months old survivor. \n",
    "\n",
    "Age/gender \tClass/crew \tNumber aboard \tNumber saved \tNumber lost \tPercentage saved \tPercentage lost\n",
    "\n",
    "      Children \tFirst Class \t6 \t5 \t1 \t83% \t17%\n",
    "                Second Class \t24 \t24 \t0 \t100% \t0%\n",
    "                Third Class \t79 \t27 \t52 \t34% \t66%\n",
    "\n",
    "        Women \tFirst Class \t144 \t140 \t4 \t97% \t3%\n",
    "                Second Class \t93 \t80 \t13 \t86% \t14%\n",
    "                Third Class \t165 \t76 \t89 \t46% \t54%\n",
    "                        Crew \t23 \t20 \t3 \t87% \t13%\n",
    "\n",
    "           Men \tFirst Class \t175 \t57 \t118 \t33% \t67%\n",
    "                Second Class \t168 \t14 \t154 \t8% \t92%\n",
    "                Third Class \t462 \t75 \t387 \t16% \t84%\n",
    "                        Crew \t885 \t192 \t693 \t22% \t78%\n",
    "                      Total \t2224 \t710 \t1514 \t32% \t68%\n"
   ]
  },
  {
   "cell_type": "code",
   "execution_count": 1,
   "metadata": {
    "collapsed": true
   },
   "outputs": [],
   "source": [
    "#import libraries used for analysis\n",
    "%matplotlib inline \n",
    "\n",
    "import pandas as pd\n",
    "import numpy as np\n",
    "import seaborn as sns\n",
    "import matplotlib.pyplot as plt"
   ]
  },
  {
   "cell_type": "code",
   "execution_count": 2,
   "metadata": {
    "collapsed": false
   },
   "outputs": [
    {
     "name": "stdout",
     "output_type": "stream",
     "text": [
      "Index([u'PassengerId', u'Survived', u'Pclass', u'Name', u'Sex', u'Age',\n",
      "       u'SibSp', u'Parch', u'Ticket', u'Fare', u'Cabin', u'Embarked'],\n",
      "      dtype='object')\n"
     ]
    }
   ],
   "source": [
    "#Loading the data and splitting into survival and non survival group\n",
    "\n",
    "filename = 'titanic_data.csv'\n",
    "titanic_df = pd.read_csv(filename)\n",
    "\n",
    "print titanic_df.keys()"
   ]
  },
  {
   "cell_type": "code",
   "execution_count": 3,
   "metadata": {
    "collapsed": false
   },
   "outputs": [
    {
     "name": "stdout",
     "output_type": "stream",
     "text": [
      "   PassengerId  Survived  Pclass  \\\n",
      "0            1         0       3   \n",
      "1            2         1       1   \n",
      "2            3         1       3   \n",
      "3            4         1       1   \n",
      "4            5         0       3   \n",
      "5            6         0       3   \n",
      "6            7         0       1   \n",
      "7            8         0       3   \n",
      "8            9         1       3   \n",
      "9           10         1       2   \n",
      "\n",
      "                                                Name     Sex  Age  SibSp  \\\n",
      "0                            Braund, Mr. Owen Harris    male   22      1   \n",
      "1  Cumings, Mrs. John Bradley (Florence Briggs Th...  female   38      1   \n",
      "2                             Heikkinen, Miss. Laina  female   26      0   \n",
      "3       Futrelle, Mrs. Jacques Heath (Lily May Peel)  female   35      1   \n",
      "4                           Allen, Mr. William Henry    male   35      0   \n",
      "5                                   Moran, Mr. James    male  NaN      0   \n",
      "6                            McCarthy, Mr. Timothy J    male   54      0   \n",
      "7                     Palsson, Master. Gosta Leonard    male    2      3   \n",
      "8  Johnson, Mrs. Oscar W (Elisabeth Vilhelmina Berg)  female   27      0   \n",
      "9                Nasser, Mrs. Nicholas (Adele Achem)  female   14      1   \n",
      "\n",
      "   Parch            Ticket     Fare Cabin Embarked  \n",
      "0      0         A/5 21171   7.2500   NaN        S  \n",
      "1      0          PC 17599  71.2833   C85        C  \n",
      "2      0  STON/O2. 3101282   7.9250   NaN        S  \n",
      "3      0            113803  53.1000  C123        S  \n",
      "4      0            373450   8.0500   NaN        S  \n",
      "5      0            330877   8.4583   NaN        Q  \n",
      "6      0             17463  51.8625   E46        S  \n",
      "7      1            349909  21.0750   NaN        S  \n",
      "8      2            347742  11.1333   NaN        S  \n",
      "9      0            237736  30.0708   NaN        C  \n",
      "     PassengerId  Survived  Pclass                                      Name  \\\n",
      "881          882         0       3                        Markun, Mr. Johann   \n",
      "882          883         0       3              Dahlberg, Miss. Gerda Ulrika   \n",
      "883          884         0       2             Banfield, Mr. Frederick James   \n",
      "884          885         0       3                    Sutehall, Mr. Henry Jr   \n",
      "885          886         0       3      Rice, Mrs. William (Margaret Norton)   \n",
      "886          887         0       2                     Montvila, Rev. Juozas   \n",
      "887          888         1       1              Graham, Miss. Margaret Edith   \n",
      "888          889         0       3  Johnston, Miss. Catherine Helen \"Carrie\"   \n",
      "889          890         1       1                     Behr, Mr. Karl Howell   \n",
      "890          891         0       3                       Dooley, Mr. Patrick   \n",
      "\n",
      "        Sex  Age  SibSp  Parch            Ticket     Fare Cabin Embarked  \n",
      "881    male   33      0      0            349257   7.8958   NaN        S  \n",
      "882  female   22      0      0              7552  10.5167   NaN        S  \n",
      "883    male   28      0      0  C.A./SOTON 34068  10.5000   NaN        S  \n",
      "884    male   25      0      0   SOTON/OQ 392076   7.0500   NaN        S  \n",
      "885  female   39      0      5            382652  29.1250   NaN        Q  \n",
      "886    male   27      0      0            211536  13.0000   NaN        S  \n",
      "887  female   19      0      0            112053  30.0000   B42        S  \n",
      "888  female  NaN      1      2        W./C. 6607  23.4500   NaN        S  \n",
      "889    male   26      0      0            111369  30.0000  C148        C  \n",
      "890    male   32      0      0            370376   7.7500   NaN        Q  \n"
     ]
    }
   ],
   "source": [
    "#looking at the top and bottom data\n",
    "\n",
    "print titanic_df.head(10)\n",
    "print titanic_df.tail(10)\n"
   ]
  },
  {
   "cell_type": "markdown",
   "metadata": {
    "collapsed": false
   },
   "source": [
    "Data fields Age, Cabin have NaN values.\n"
   ]
  },
  {
   "cell_type": "code",
   "execution_count": 4,
   "metadata": {
    "collapsed": false
   },
   "outputs": [
    {
     "name": "stdout",
     "output_type": "stream",
     "text": [
      "Youngest Survivor\n",
      "PassengerId                                804\n",
      "Survived                                     1\n",
      "Pclass                                       3\n",
      "Name           Thomas, Master. Assad Alexander\n",
      "Sex                                       male\n",
      "Age                                       0.42\n",
      "SibSp                                        0\n",
      "Parch                                        1\n",
      "Ticket                                    2625\n",
      "Fare                                    8.5167\n",
      "Cabin                                      NaN\n",
      "Embarked                                     C\n",
      "Name: 803, dtype: object\n",
      "Oldest Survivor\n",
      "PassengerId                                     631\n",
      "Survived                                          1\n",
      "Pclass                                            1\n",
      "Name           Barkworth, Mr. Algernon Henry Wilson\n",
      "Sex                                            male\n",
      "Age                                              80\n",
      "SibSp                                             0\n",
      "Parch                                             0\n",
      "Ticket                                        27042\n",
      "Fare                                             30\n",
      "Cabin                                           A23\n",
      "Embarked                                          S\n",
      "Name: 630, dtype: object\n"
     ]
    }
   ],
   "source": [
    "#who was the youngest passenger\n",
    "print 'Youngest Passenger'\n",
    "print titanic_df.loc[titanic_df['Age'].idxmin(skipna=True)]\n",
    "\n",
    "#who was the oldest passenger\n",
    "print 'Oldest Passenger'\n",
    "print titanic_df.loc[titanic_df['Age'].idxmax(skipna=True)]"
   ]
  },
  {
   "cell_type": "markdown",
   "metadata": {},
   "source": [
    "Both Youngest and oldest passengers survived. Youngest passenger belonged to class 3 and oldest to class 1. "
   ]
  },
  {
   "cell_type": "code",
   "execution_count": 5,
   "metadata": {
    "collapsed": true
   },
   "outputs": [],
   "source": [
    "#Below code will replace NaNs in all fields\n",
    "#titanic_df.fillna(0, inplace= True)\n",
    "\n",
    "#For Age field replacing NaNs with 0 will produce outliers that would sadversely affect the graphs/plots.\n",
    "#Hence it would make more sense to replace it with the mean age of available values\n",
    "mean_age = np.round(np.mean(titanic_df['Age']),decimals=1)\n",
    "titanic_df['Age'].fillna(mean_age, inplace= True)\n",
    "\n",
    "#Below code will replace NaNs in field Cabin separately with spaces\n",
    "#titanic_df['Cabin'].fillna(' ', inplace= True)"
   ]
  },
  {
   "cell_type": "code",
   "execution_count": 6,
   "metadata": {
    "collapsed": true
   },
   "outputs": [],
   "source": [
    "titanic_survivors = titanic_df[titanic_df['Survived']==1]\n",
    "titanic_non_survivors = titanic_df[titanic_df['Survived']==0]"
   ]
  },
  {
   "cell_type": "code",
   "execution_count": 7,
   "metadata": {
    "collapsed": true
   },
   "outputs": [],
   "source": [
    "# function to create plots for a particular variable\n",
    "def create_compare_plots(df1,df2,key,kind):\n",
    "    ax=df1[key].value_counts().plot(kind=kind)\n",
    "    df2[key].value_counts().plot(ax=ax,kind=kind,color='r')"
   ]
  },
  {
   "cell_type": "code",
   "execution_count": 8,
   "metadata": {
    "collapsed": false
   },
   "outputs": [
    {
     "data": {
      "image/png": "[encoded data removed]",
      "text/plain": [
       "<matplotlib.figure.Figure at 0x7fc9f9af8350>"
      ]
     },
     "metadata": {},
     "output_type": "display_data"
    }
   ],
   "source": [
    "#How survival depended on gender of person\n",
    "create_compare_plots(titanic_df,titanic_survivors,'Sex','bar')"
   ]
  },
  {
   "cell_type": "markdown",
   "metadata": {},
   "source": [
    "About 41% of total females survived the disaster\n",
    "About 33% of total males survived the disaster"
   ]
  },
  {
   "cell_type": "code",
   "execution_count": 9,
   "metadata": {
    "collapsed": false
   },
   "outputs": [
    {
     "data": {
      "image/png": "[encoded data removed]",
      "text/plain": [
       "<matplotlib.figure.Figure at 0x7fc9c7957ed0>"
      ]
     },
     "metadata": {},
     "output_type": "display_data"
    }
   ],
   "source": [
    "#How survival depended on Class of a person\n",
    "create_compare_plots(titanic_df,titanic_survivors,'Pclass','bar')"
   ]
  },
  {
   "cell_type": "markdown",
   "metadata": {},
   "source": [
    "About 29% of class 1, 47% of class 2 and 62% of class 3 passangers survived. Class of passanger might play a role in location proximity and accessibility of passenger to the life boats."
   ]
  },
  {
   "cell_type": "code",
   "execution_count": 10,
   "metadata": {
    "collapsed": false
   },
   "outputs": [
    {
     "data": {
      "text/plain": [
       "<matplotlib.axes._subplots.AxesSubplot at 0x7fc9c78f4210>"
      ]
     },
     "execution_count": 10,
     "metadata": {},
     "output_type": "execute_result"
    },
    {
     "data": {
      "image/png": "[encoded data removed]",
      "text/plain": [
       "<matplotlib.figure.Figure at 0x7fc9c78a5310>"
      ]
     },
     "metadata": {},
     "output_type": "display_data"
    }
   ],
   "source": [
    "#How survival depended on age of a person\n",
    "#create_compare_plots(titanic_df,titanic_survivors,'Age','hist')\n",
    "\n",
    "ax=titanic_df['Age'].hist(bins=20)\n",
    "titanic_survivors['Age'].hist(ax=ax,bins=20)"
   ]
  },
  {
   "cell_type": "markdown",
   "metadata": {},
   "source": [
    "The graph above describes the survival based on age. As age increases the survival ratio decreased. Yet status of passenger could have influenced securing a seat on life boat"
   ]
  },
  {
   "cell_type": "code",
   "execution_count": 11,
   "metadata": {
    "collapsed": false
   },
   "outputs": [
    {
     "data": {
      "text/plain": [
       "<matplotlib.axes._subplots.AxesSubplot at 0x7fc9c7653a10>"
      ]
     },
     "execution_count": 11,
     "metadata": {},
     "output_type": "execute_result"
    },
    {
     "data": {
      "image/png": "[encoded data removed]",
      "text/plain": [
       "<matplotlib.figure.Figure at 0x7fc9c78a5190>"
      ]
     },
     "metadata": {},
     "output_type": "display_data"
    }
   ],
   "source": [
    "# How does the age/status graph looked for survivors/non survivors? \n",
    "#Survival box plots of passenger age by pclass\n",
    "titanic_survivors.boxplot(column=['Age'],by='Pclass')"
   ]
  },
  {
   "cell_type": "markdown",
   "metadata": {},
   "source": [
    "Average ages for survival for class 1, 2 and 3 were 35, 28, 27 respectively. Lowest age of survival was a year or less for all three classes. Highest age of survival increased with status/class of passanger, with highest ages being 63, 55, 45 for class 1, 2 and 3 respectively"
   ]
  },
  {
   "cell_type": "code",
   "execution_count": 12,
   "metadata": {
    "collapsed": false
   },
   "outputs": [
    {
     "data": {
      "text/plain": [
       "<matplotlib.axes._subplots.AxesSubplot at 0x7fc9c74d5c50>"
      ]
     },
     "execution_count": 12,
     "metadata": {},
     "output_type": "execute_result"
    },
    {
     "data": {
      "image/png": "[encoded data removed]",
      "text/plain": [
       "<matplotlib.figure.Figure at 0x7fc9c77bc110>"
      ]
     },
     "metadata": {},
     "output_type": "display_data"
    }
   ],
   "source": [
    "#Non Survival box plots of passenger age by Pclass\n",
    "titanic_non_survivors.boxplot(column=['Age'],by='Pclass')"
   ]
  },
  {
   "cell_type": "markdown",
   "metadata": {},
   "source": [
    "Average ages for non survival for class 1, 2 and 3 were 38, 30, 29 respectively. Lowest age of non survival was under 3 years for class 1, under 10 years for class 3, and above 15 years for class 2. Highest age of non survival increased with status/class of passanger, with highest ages being 71, 57, 43 for class 1, 2 and 3 respectively."
   ]
  },
  {
   "cell_type": "code",
   "execution_count": 13,
   "metadata": {
    "collapsed": false
   },
   "outputs": [
    {
     "data": {
      "text/plain": [
       "<matplotlib.axes._subplots.AxesSubplot at 0x7fc9c7511190>"
      ]
     },
     "execution_count": 13,
     "metadata": {},
     "output_type": "execute_result"
    },
    {
     "data": {
      "image/png": "[encoded data removed]",
      "text/plain": [
       "<matplotlib.figure.Figure at 0x7fc9c73f4b90>"
      ]
     },
     "metadata": {},
     "output_type": "display_data"
    }
   ],
   "source": [
    "# How does the age/gender graph looked for survivors/non survivors? \n",
    "#Survival box plots of passenger age by gender\n",
    "titanic_survivors.boxplot(column=['Age'],by='Sex')"
   ]
  },
  {
   "cell_type": "markdown",
   "metadata": {},
   "source": [
    "Average, minimum and maximum ages of survivor males and females were about the same. Average around 30, min around 2, max around 55 "
   ]
  },
  {
   "cell_type": "code",
   "execution_count": 14,
   "metadata": {
    "collapsed": false
   },
   "outputs": [
    {
     "data": {
      "text/plain": [
       "<matplotlib.axes._subplots.AxesSubplot at 0x7fc9c7638150>"
      ]
     },
     "execution_count": 14,
     "metadata": {},
     "output_type": "execute_result"
    },
    {
     "data": {
      "image/png": "[encoded data removed]",
      "text/plain": [
       "<matplotlib.figure.Figure at 0x7fc9c76c4cd0>"
      ]
     },
     "metadata": {},
     "output_type": "display_data"
    }
   ],
   "source": [
    "#Non Survival box plots of passenger age by gender\n",
    "titanic_non_survivors.boxplot(column=['Age'],by='Sex')"
   ]
  },
  {
   "cell_type": "markdown",
   "metadata": {},
   "source": [
    "Minimum age of female non survivors (2) was less than that of male non survivors (7). Average age of female non survivors (28) was less than that of male non survivors (30). Max age of female non survivors (48) was less than that of male non survivors(55) "
   ]
  },
  {
   "cell_type": "markdown",
   "metadata": {},
   "source": [
    "# What factors made people more likely to survive?\n",
    "By the graphs above 'Survived' is dependent variable, that varies with independent variables 'Age', 'Pclass', 'Sex'\n",
    "\n",
    "There could be few more dependency like presence of relatives 'Parch' (parents), 'Sibsp' (siblings), travelling nanny, location of 'Cabin' that could have affected the likelyhood of survival."
   ]
  },
  {
   "cell_type": "code",
   "execution_count": 15,
   "metadata": {
    "collapsed": false
   },
   "outputs": [
    {
     "name": "stdout",
     "output_type": "stream",
     "text": [
      "Percent of children unsaved grouped by class\n",
      "Pclass\n",
      "1    20.000000\n",
      "2     0.000000\n",
      "3    58.490566\n",
      "dtype: float64\n",
      "\n",
      "Male Child passanger who did not make it to safety \n",
      "             Age      SibSp      Parch  Pclass\n",
      "count  18.000000  18.000000  18.000000      18\n",
      "mean    6.666667   3.833333   1.388889       3\n",
      "std     4.338609   1.150447   0.607685       0\n",
      "min     1.000000   0.000000   0.000000       3\n",
      "25%     2.500000   4.000000   1.000000       3\n",
      "50%     7.000000   4.000000   1.000000       3\n",
      "75%     9.750000   4.000000   2.000000       3\n",
      "max    14.000000   5.000000   2.000000       3\n",
      "\n",
      "Female Child passanger who did not make it to safety \n",
      "             Age      SibSp      Parch     Pclass\n",
      "count  14.000000  14.000000  14.000000  14.000000\n",
      "mean    6.857143   2.285714   1.571429   2.857143\n",
      "std     3.997252   1.589803   0.646206   0.534522\n",
      "min     2.000000   0.000000   0.000000   1.000000\n",
      "25%     2.250000   1.000000   1.000000   3.000000\n",
      "50%     8.500000   3.000000   2.000000   3.000000\n",
      "75%     9.000000   3.750000   2.000000   3.000000\n",
      "max    14.000000   4.000000   2.000000   3.000000\n",
      "\n",
      "Unsaved female child count by class \n",
      "Pclass\n",
      "1     1\n",
      "3    13\n",
      "dtype: int64\n",
      "\n",
      "Unsaved male child count by class \n",
      "Pclass\n",
      "3    18\n",
      "dtype: int64\n",
      "\n",
      "Only female child unsaved passenger who did not belong to class 3\n",
      "     PassengerId  Survived  Pclass                          Name     Sex  Age  \\\n",
      "297          298         0       1  Allison, Miss. Helen Loraine  female    2   \n",
      "\n",
      "     SibSp  Parch  Ticket    Fare    Cabin Embarked  \n",
      "297      1      2  113781  151.55  C22 C26        S  \n"
     ]
    }
   ],
   "source": [
    "#Describe of data of non surviving children per class\n",
    "total_children = titanic_df[titanic_df['Age']<=14]\n",
    "unsaved_children = titanic_non_survivors[titanic_non_survivors['Age']<=14]\n",
    "\n",
    "total_child_count = total_children.groupby('Pclass').size()\n",
    "unsaved_child_count = unsaved_children.groupby('Pclass').size()\n",
    "\n",
    "print 'Percent of children unsaved grouped by class' \n",
    "print ((unsaved_child_count * 100)/total_child_count).fillna(0)\n",
    "print\n",
    "\n",
    "male_unsaved_children = unsaved_children[unsaved_children['Sex']=='male']\n",
    "female_unsaved_children = unsaved_children[unsaved_children['Sex']=='female']\n",
    "\n",
    "print 'Male Child passanger who did not make it to safety '\n",
    "print male_unsaved_children[['Age','SibSp','Parch','Pclass']].describe()\n",
    "print\n",
    "\n",
    "print 'Female Child passanger who did not make it to safety '\n",
    "print female_unsaved_children[['Age','SibSp','Parch','Pclass']].describe()\n",
    "\n",
    "print\n",
    "\n",
    "print 'Unsaved female child count by class '\n",
    "print female_unsaved_children.groupby('Pclass').size()\n",
    "print\n",
    "\n",
    "print 'Unsaved male child count by class '\n",
    "print male_unsaved_children.groupby('Pclass').size()\n",
    "print\n",
    "\n",
    "print 'Only female child unsaved passenger who did not belong to class 3'\n",
    "print female_unsaved_children[female_unsaved_children['Pclass']!=3]"
   ]
  },
  {
   "cell_type": "code",
   "execution_count": 16,
   "metadata": {
    "collapsed": false
   },
   "outputs": [
    {
     "name": "stdout",
     "output_type": "stream",
     "text": [
      "Percent of adults unsaved grouped by class\n",
      "Pclass\n",
      "1    37.440758\n",
      "2    58.787879\n",
      "3    77.853881\n",
      "dtype: float64\n",
      "\n",
      "Male adult passangers who did not make it to safety \n",
      "              Age       SibSp      Parch      Pclass\n",
      "count  450.000000  450.000000  450.00000  450.000000\n",
      "mean    32.155778    0.304444    0.16000    2.455556\n",
      "std     11.527941    0.904445    0.55133    0.769130\n",
      "min     15.000000    0.000000    0.00000    1.000000\n",
      "25%     25.000000    0.000000    0.00000    2.000000\n",
      "50%     29.700000    0.000000    0.00000    3.000000\n",
      "75%     36.000000    0.000000    0.00000    3.000000\n",
      "max     74.000000    8.000000    5.00000    3.000000\n",
      "\n",
      "Female adult passangers who did not make it to safety \n",
      "             Age      SibSp      Parch     Pclass\n",
      "count  67.000000  67.000000  67.000000  67.000000\n",
      "mean   30.028358   0.985075   0.925373   2.850746\n",
      "std     9.170090   1.787944   1.480309   0.435324\n",
      "min    14.500000   0.000000   0.000000   1.000000\n",
      "25%    24.000000   0.000000   0.000000   3.000000\n",
      "50%    29.700000   0.000000   0.000000   3.000000\n",
      "75%    31.500000   1.000000   1.500000   3.000000\n",
      "max    57.000000   8.000000   6.000000   3.000000\n",
      "\n",
      "Unsaved male adult count by class \n",
      "Pclass\n",
      "1     77\n",
      "2     91\n",
      "3    282\n",
      "dtype: int64\n",
      "\n",
      "Unsaved female adult count by class \n",
      "Pclass\n",
      "1     2\n",
      "2     6\n",
      "3    59\n",
      "dtype: int64\n",
      "\n",
      "Female adult unsaved passengers who did not belong to class 3\n",
      "     PassengerId  Survived  Pclass  \\\n",
      "41            42         0       2   \n",
      "177          178         0       1   \n",
      "199          200         0       2   \n",
      "312          313         0       2   \n",
      "357          358         0       2   \n",
      "498          499         0       1   \n",
      "772          773         0       2   \n",
      "854          855         0       2   \n",
      "\n",
      "                                                  Name     Sex  Age  SibSp  \\\n",
      "41   Turpin, Mrs. William John Robert (Dorothy Ann ...  female   27      1   \n",
      "177                         Isham, Miss. Ann Elizabeth  female   50      0   \n",
      "199             Yrois, Miss. Henriette (\"Mrs Harbeck\")  female   24      0   \n",
      "312              Lahtinen, Mrs. William (Anna Sylfven)  female   26      1   \n",
      "357                          Funk, Miss. Annie Clemmer  female   38      0   \n",
      "498    Allison, Mrs. Hudson J C (Bessie Waldo Daniels)  female   25      1   \n",
      "772                                  Mack, Mrs. (Mary)  female   57      0   \n",
      "854      Carter, Mrs. Ernest Courtenay (Lilian Hughes)  female   44      1   \n",
      "\n",
      "     Parch       Ticket      Fare    Cabin Embarked  \n",
      "41       0        11668   21.0000      NaN        S  \n",
      "177      0     PC 17595   28.7125      C49        C  \n",
      "199      0       248747   13.0000      NaN        S  \n",
      "312      1       250651   26.0000      NaN        S  \n",
      "357      0       237671   13.0000      NaN        S  \n",
      "498      2       113781  151.5500  C22 C26        S  \n",
      "772      0  S.O./P.P. 3   10.5000      E77        S  \n",
      "854      0       244252   26.0000      NaN        S  \n",
      "\n",
      "Cabin C22-C26 passengers\n",
      "     PassengerId  Survived  Pclass  \\\n",
      "297          298         0       1   \n",
      "305          306         1       1   \n",
      "498          499         0       1   \n",
      "\n",
      "                                                Name     Sex    Age  SibSp  \\\n",
      "297                     Allison, Miss. Helen Loraine  female   2.00      1   \n",
      "305                   Allison, Master. Hudson Trevor    male   0.92      1   \n",
      "498  Allison, Mrs. Hudson J C (Bessie Waldo Daniels)  female  25.00      1   \n",
      "\n",
      "     Parch  Ticket    Fare    Cabin Embarked  \n",
      "297      2  113781  151.55  C22 C26        S  \n",
      "305      2  113781  151.55  C22 C26        S  \n",
      "498      2  113781  151.55  C22 C26        S  \n",
      "\n",
      "Records for Allison family\n",
      "Empty DataFrame\n",
      "Columns: [PassengerId, Survived, Pclass, Name, Sex, Age, SibSp, Parch, Ticket, Fare, Cabin, Embarked]\n",
      "Index: []\n",
      "     PassengerId  Survived  Pclass  \\\n",
      "297          298         0       1   \n",
      "305          306         1       1   \n",
      "498          499         0       1   \n",
      "\n",
      "                                                Name     Sex    Age  SibSp  \\\n",
      "297                     Allison, Miss. Helen Loraine  female   2.00      1   \n",
      "305                   Allison, Master. Hudson Trevor    male   0.92      1   \n",
      "498  Allison, Mrs. Hudson J C (Bessie Waldo Daniels)  female  25.00      1   \n",
      "\n",
      "     Parch  Ticket    Fare    Cabin Embarked  \n",
      "297      2  113781  151.55  C22 C26        S  \n",
      "305      2  113781  151.55  C22 C26        S  \n",
      "498      2  113781  151.55  C22 C26        S  \n",
      "\n",
      "113781\n",
      "Records for nurse of only survivor of Allison family\n",
      "     PassengerId  Survived  Pclass                  Name     Sex  Age  SibSp  \\\n",
      "708          709         1       1  Cleaver, Miss. Alice  female   22      0   \n",
      "\n",
      "     Parch  Ticket    Fare Cabin Embarked  \n",
      "708      0  113781  151.55   NaN        S  \n",
      "\n"
     ]
    }
   ],
   "source": [
    "#Describe data of non surviving adults per class\n",
    "total_adults = titanic_df[titanic_df['Age']>14]\n",
    "unsaved_adults = titanic_non_survivors[titanic_non_survivors['Age']>14]\n",
    "\n",
    "total_adult_count = total_adults.groupby('Pclass').size()\n",
    "unsaved_adult_count = unsaved_adults.groupby('Pclass').size()\n",
    "\n",
    "print 'Percent of adults unsaved grouped by class' \n",
    "print ((unsaved_adult_count * 100)/total_adult_count).fillna(0)\n",
    "print\n",
    "\n",
    "male_unsaved_adults = unsaved_adults[unsaved_adults['Sex']=='male']\n",
    "female_unsaved_adults = unsaved_adults[unsaved_adults['Sex']=='female']\n",
    "\n",
    "print 'Male adult passangers who did not make it to safety '\n",
    "print male_unsaved_adults[['Age','SibSp','Parch','Pclass']].describe()\n",
    "print\n",
    "\n",
    "print 'Female adult passangers who did not make it to safety '\n",
    "print female_unsaved_adults[['Age','SibSp','Parch','Pclass']].describe()\n",
    "print\n",
    "\n",
    "print 'Unsaved male adult count by class '\n",
    "print male_unsaved_adults.groupby('Pclass').size()\n",
    "print\n",
    "\n",
    "print 'Unsaved female adult count by class '\n",
    "print female_unsaved_adults.groupby('Pclass').size()\n",
    "print\n",
    "\n",
    "print 'Female adult unsaved passengers who did not belong to class 3'\n",
    "print female_unsaved_adults[female_unsaved_adults['Pclass']!=3]\n",
    "print\n",
    "\n",
    "print 'Cabin C22-C26 passengers'\n",
    "print titanic_df[titanic_df['Cabin'].str.contains(\"C22 C26\")==True]\n",
    "print\n",
    "\n",
    "print 'Records for Allison family'\n",
    "print male_unsaved_adults[male_unsaved_adults['Name'].str.contains(\"Allison\")==True]\n",
    "print titanic_df[titanic_df['Name'].str.contains(\"Allison\")==True]\n",
    "print\n",
    "\n",
    "potential_nanny_ticket = titanic_df[titanic_df['Name'].str.contains(\"Allison, Master. Hudson Trevor\")==True]['Ticket'].iloc[0]\n",
    "print potential_nanny_ticket\n",
    "print 'Records for nurse of only survivor of Allison family'\n",
    "print  titanic_df[(titanic_df['Ticket'].str.contains(potential_nanny_ticket)==True)&(titanic_df['Cabin'].isnull())]\n",
    "print"
   ]
  },
  {
   "cell_type": "markdown",
   "metadata": {},
   "source": [
    "# No record for father Hudon Allison on the given titanic file\n",
    "\n",
    "Master Hudson Trevor Allison, 11m, was born May 7, 1911 in Westmount, Quebec.\n",
    "\n",
    "Shortly after Trevor was born, the Allison family travelled to England for business purposes, and it was in England that young Trevor was baptised.\n",
    "\n",
    "He travelled on the Titanic with his father Hudson Allison his mother Bess Allison and sister Loraine. He was also accompanied by a nurse Alice Cleaver.\n",
    "\n",
    "Of the Allison family, only baby Trevor was saved.\n",
    "\n",
    "After the sinking, baby Trevor returned home to Canada, where he would be raised by his aunt and uncle, George and Lillian Allison.\n",
    "\n",
    "Trevor died on 7 August 1929 at the age of 18 in Maine, USA of ptomaine poisoning and was buried beside his father in Chesterville, Ontario.\n"
   ]
  },
  {
   "cell_type": "markdown",
   "metadata": {},
   "source": [
    "Being a nanny of surviving child might have influenced survival of nurse Alice Cleaver in this scenario.  "
   ]
  },
  {
   "cell_type": "code",
   "execution_count": 17,
   "metadata": {
    "collapsed": false
   },
   "outputs": [
    {
     "name": "stdout",
     "output_type": "stream",
     "text": [
      "Female to male child survival ratio in survivors \n",
      "1.14285714286\n",
      "Female to male child survival ratio in non survivors \n",
      "0.777777777778\n"
     ]
    }
   ],
   "source": [
    "# What was female child to male child ratio of survivors and non survivors\n",
    "\n",
    "saved_children = titanic_survivors[titanic_survivors['Age']<=14]\n",
    "female_saved_child = saved_children[saved_children['Sex']=='female']\n",
    "male_saved_child = saved_children[saved_children['Sex']=='male']\n",
    "\n",
    "female_vs_male_ratio = np.true_divide(female_saved_child.size,male_saved_child.size)\n",
    "print 'Female to male child survival ratio in survivors '\n",
    "print female_vs_male_ratio\n",
    "\n",
    "female_vs_male_ratio_unsaved = np.true_divide(female_unsaved_children.size,male_unsaved_children.size)\n",
    "print 'Female to male child survival ratio in non survivors '\n",
    "print female_vs_male_ratio_unsaved\n"
   ]
  },
  {
   "cell_type": "code",
   "execution_count": 18,
   "metadata": {
    "collapsed": false
   },
   "outputs": [
    {
     "data": {
      "text/plain": [
       "<matplotlib.collections.PathCollection at 0x7fc9c782e950>"
      ]
     },
     "execution_count": 18,
     "metadata": {},
     "output_type": "execute_result"
    },
    {
     "data": {
      "image/png": "[encoded data removed]",
      "text/plain": [
       "<matplotlib.figure.Figure at 0x7fc9c7289810>"
      ]
     },
     "metadata": {},
     "output_type": "display_data"
    }
   ],
   "source": [
    "#Fare Vs Age Survival plot for children \n",
    "survive_color = np.where(total_children.Survived == 1,'r','b')\n",
    "plt.scatter(total_children['Fare'],total_children['Age'],c=survive_color,s=(total_children['Pclass']*20))\n"
   ]
  },
  {
   "cell_type": "markdown",
   "metadata": {},
   "source": [
    "The graph shows how saved child passangers varied by class and age. This graph is based on assumption that Fare is inversely proportional to class of passenger(First class passengers fare is higher than third class passengers). Red dots describe the passengers who survived and Blue dots who did not. Most of the first class child passengers were saved. Most of the children who did not survive the mishap were from class 1 and 3. "
   ]
  },
  {
   "cell_type": "code",
   "execution_count": 21,
   "metadata": {
    "collapsed": false
   },
   "outputs": [
    {
     "data": {
      "image/png": "[encoded data removed]",
      "text/plain": [
       "<matplotlib.figure.Figure at 0x7fc9c7133350>"
      ]
     },
     "metadata": {},
     "output_type": "display_data"
    }
   ],
   "source": [
    "create_compare_plots(total_children,unsaved_children,'Sex','bar')"
   ]
  },
  {
   "cell_type": "markdown",
   "metadata": {},
   "source": [
    "About 47% of male children and 39% of female children travelling were not saved"
   ]
  },
  {
   "cell_type": "code",
   "execution_count": 22,
   "metadata": {
    "collapsed": false
   },
   "outputs": [
    {
     "name": "stdout",
     "output_type": "stream",
     "text": [
      "Total number of families travelling were\n",
      "681\n",
      "Total number of people not travelling alone(family size greater than 1)\n",
      "344\n",
      "Total number of families split in disaster\n",
      "86\n"
     ]
    }
   ],
   "source": [
    "#How many families travelling remained intact\n",
    "titanic_ticket_group = titanic_df.groupby('Ticket')\n",
    "print 'Total number of families travelling were'\n",
    "print len(titanic_ticket_group)\n",
    "\n",
    "print 'Total number of people not travelling alone(family size greater than 1)'\n",
    "family_tickets = titanic_ticket_group.filter(lambda x: len(x)>1)\n",
    "print len(family_tickets)\n",
    "\n",
    "num_family_split = 0\n",
    "family_survived = family_tickets.groupby('Ticket')\n",
    "for ticket in family_survived.groups.keys():\n",
    "    if ticket in titanic_non_survivors.Ticket.values:\n",
    "        num_family_split = num_family_split + 1\n",
    "\n",
    "print 'Total number of families split in disaster'\n",
    "print num_family_split\n"
   ]
  },
  {
   "cell_type": "code",
   "execution_count": 23,
   "metadata": {
    "collapsed": false
   },
   "outputs": [
    {
     "data": {
      "image/png": "[encoded data removed]",
      "text/plain": [
       "<matplotlib.figure.Figure at 0x7fc9c707cf90>"
      ]
     },
     "metadata": {},
     "output_type": "display_data"
    }
   ],
   "source": [
    "#describe the survival data by the location of embarkment\n",
    "create_compare_plots(titanic_df,titanic_survivors,'Embarked','bar')"
   ]
  },
  {
   "cell_type": "markdown",
   "metadata": {
    "collapsed": true
   },
   "source": [
    "About 33% of people who embarked from Southampton survived, 55% from Cherbourg survived, 37% from Queenstown survived. The location of the passenger on ship might have played important role on boarding the rescue boats. And location of passenger could be proportional to class and port of embarkment  "
   ]
  },
  {
   "cell_type": "code",
   "execution_count": null,
   "metadata": {
    "collapsed": true
   },
   "outputs": [],
   "source": []
  }
 ],
 "metadata": {
  "kernelspec": {
   "display_name": "Python 2",
   "language": "python",
   "name": "python2"
  },
  "language_info": {
   "codemirror_mode": {
    "name": "ipython",
    "version": 2
   },
   "file_extension": ".py",
   "mimetype": "text/x-python",
   "name": "python",
   "nbconvert_exporter": "python",
   "pygments_lexer": "ipython2",
   "version": "2.7.11"
  }
 },
 "nbformat": 4,
 "nbformat_minor": 0
}
